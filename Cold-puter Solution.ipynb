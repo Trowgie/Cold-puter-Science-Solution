{
 "cells": [
  {
   "cell_type": "code",
   "execution_count": 1,
   "metadata": {},
   "outputs": [],
   "source": [
    "import random"
   ]
  },
  {
   "cell_type": "markdown",
   "metadata": {},
   "source": [
    "### Inputed number of temperature"
   ]
  },
  {
   "cell_type": "code",
   "execution_count": 2,
   "metadata": {
    "scrolled": true
   },
   "outputs": [
    {
     "name": "stdout",
     "output_type": "stream",
     "text": [
      "5\n",
      "-80 20 60 -38 -50\n",
      "3\n"
     ]
    }
   ],
   "source": [
    "ilan = int(input())\n",
    "neg = 0\n",
    "temperatures = input().split()\n",
    "for temp in temperatures:\n",
    "    if int(temp) < 0:\n",
    "        neg += 1\n",
    "print (neg)"
   ]
  },
  {
   "cell_type": "markdown",
   "metadata": {},
   "source": [
    "### Randomized Temperature"
   ]
  },
  {
   "cell_type": "code",
   "execution_count": 3,
   "metadata": {
    "scrolled": true
   },
   "outputs": [
    {
     "name": "stdout",
     "output_type": "stream",
     "text": [
      "5\n",
      "-526470 -566008 202626 -554144 -283384 \n",
      "\n",
      "Number of Negative Temperature: 4\n"
     ]
    }
   ],
   "source": [
    "ilan = int(input())\n",
    "neg = 0\n",
    "count = 0\n",
    "\n",
    "while count < ilan:\n",
    "    count += 1\n",
    "    number = random.randrange(-1000000, 1000000)\n",
    "    print(number,end=\" \")\n",
    "    if number < 0:\n",
    "        neg = neg + 1\n",
    "        \n",
    "print(\"\\n\\nNumber of Negative Temperature: \" + str(neg))"
   ]
  },
  {
   "cell_type": "markdown",
   "metadata": {},
   "source": [
    "## Randomized number of collected temperature & Randomized Temperature "
   ]
  },
  {
   "cell_type": "code",
   "execution_count": 4,
   "metadata": {},
   "outputs": [
    {
     "name": "stdout",
     "output_type": "stream",
     "text": [
      "number of temperatures collected: 44\n",
      "\n",
      "-824318 171928 602969 -150515 -138687 -728786 -524053 -311252 -625437 -75262 -444870 -850760 -353583 -785518 -257902 -527249 163561 -673535 -312834 365520 390095 -813435 600207 420079 -613098 -437746 236210 -593212 -944413 393526 -789338 -103826 -134926 126645 175567 -228896 -380432 221491 -458345 941542 -324669 -386360 483043 -533806 \n",
      "\n",
      "Number of Negative Temperature: 30\n"
     ]
    }
   ],
   "source": [
    "ilan = random.randrange(1, 100)\n",
    "print(\"number of temperatures collected: \" + str(ilan) + \"\\n\")\n",
    "neg = 0\n",
    "count = 0\n",
    "\n",
    "while count < ilan:\n",
    "    count += 1\n",
    "    number = random.randrange(-1000000, 1000000)\n",
    "    print(number,end=\" \")\n",
    "    if number < 0:\n",
    "        neg += 1\n",
    "        \n",
    "print(\"\\n\\nNumber of Negative Temperature: \" + str(neg))"
   ]
  },
  {
   "cell_type": "code",
   "execution_count": null,
   "metadata": {},
   "outputs": [],
   "source": []
  }
 ],
 "metadata": {
  "kernelspec": {
   "display_name": "Python 3",
   "language": "python",
   "name": "python3"
  },
  "language_info": {
   "codemirror_mode": {
    "name": "ipython",
    "version": 3
   },
   "file_extension": ".py",
   "mimetype": "text/x-python",
   "name": "python",
   "nbconvert_exporter": "python",
   "pygments_lexer": "ipython3",
   "version": "3.8.5"
  }
 },
 "nbformat": 4,
 "nbformat_minor": 4
}
