{
 "cells": [
  {
   "cell_type": "code",
   "execution_count": 1,
   "metadata": {},
   "outputs": [],
   "source": [
    "import random"
   ]
  },
  {
   "cell_type": "markdown",
   "metadata": {},
   "source": [
    "### Inputed number of temperature"
   ]
  },
  {
   "cell_type": "code",
   "execution_count": 2,
   "metadata": {
    "scrolled": true
   },
   "outputs": [
    {
     "name": "stdout",
     "output_type": "stream",
     "text": [
      "2\n",
      "2 4 -20\n",
      "1\n"
     ]
    }
   ],
   "source": [
    "ilan = int(input())\n",
    "neg = 0\n",
    "temperatures = input().split()\n",
    "for temp in temperatures:\n",
    "    if int(temp) < 0:\n",
    "        neg += 1\n",
    "print (neg)"
   ]
  },
  {
   "cell_type": "markdown",
   "metadata": {},
   "source": [
    "### Randomize Temperature"
   ]
  },
  {
   "cell_type": "code",
   "execution_count": 3,
   "metadata": {
    "scrolled": true
   },
   "outputs": [
    {
     "name": "stdout",
     "output_type": "stream",
     "text": [
      "4\n",
      "-893569 14994 668935 886598 \n",
      "\n",
      "Number of Negative Temperature: 1\n"
     ]
    }
   ],
   "source": [
    "ilan = int(input())\n",
    "neg = 0\n",
    "count = 0\n",
    "\n",
    "while count < ilan:\n",
    "    count += 1\n",
    "    number = random.randrange(-1000000, 1000000)\n",
    "    print(number,end=\" \")\n",
    "    if number < 0:\n",
    "        neg = neg + 1\n",
    "        \n",
    "print(\"\\n\\nNumber of Negative Temperature: \" + str(neg))"
   ]
  },
  {
   "cell_type": "markdown",
   "metadata": {},
   "source": [
    "### Randomize All"
   ]
  },
  {
   "cell_type": "code",
   "execution_count": 4,
   "metadata": {},
   "outputs": [
    {
     "name": "stdout",
     "output_type": "stream",
     "text": [
      "number of temperatures collected: 19\n",
      "\n",
      "-558459 -570470 566240 816050 596591 -220535 -104419 327172 723345 -830890 970168 504590 -385057 -100936 -692503 152903 -689122 -211232 -501458 \n",
      "\n",
      "Number of Negative Temperature: 11\n"
     ]
    }
   ],
   "source": [
    "ilan = random.randrange(1, 100)\n",
    "print(\"number of temperatures collected: \" + str(ilan) + \"\\n\")\n",
    "neg = 0\n",
    "count = 0\n",
    "\n",
    "while count < ilan:\n",
    "    count += 1\n",
    "    number = random.randrange(-1000000, 1000000)\n",
    "    print(number,end=\" \")\n",
    "    if number < 0:\n",
    "        neg += 1\n",
    "        \n",
    "print(\"\\n\\nNumber of Negative Temperature: \" + str(neg))"
   ]
  },
  {
   "cell_type": "code",
   "execution_count": null,
   "metadata": {},
   "outputs": [],
   "source": []
  }
 ],
 "metadata": {
  "kernelspec": {
   "display_name": "Python 3",
   "language": "python",
   "name": "python3"
  },
  "language_info": {
   "codemirror_mode": {
    "name": "ipython",
    "version": 3
   },
   "file_extension": ".py",
   "mimetype": "text/x-python",
   "name": "python",
   "nbconvert_exporter": "python",
   "pygments_lexer": "ipython3",
   "version": "3.8.5"
  }
 },
 "nbformat": 4,
 "nbformat_minor": 4
}
